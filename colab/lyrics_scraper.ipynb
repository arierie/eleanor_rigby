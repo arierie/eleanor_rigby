{
 "cells": [
  {
   "cell_type": "code",
   "execution_count": 1,
   "id": "71c7060e",
   "metadata": {},
   "outputs": [],
   "source": [
    "from tkinter import *\n",
    "from tkinter import filedialog\n",
    "from tkinter import Tk\n",
    "import json"
   ]
  },
  {
   "cell_type": "code",
   "execution_count": 2,
   "id": "f09d8289",
   "metadata": {},
   "outputs": [
    {
     "data": {
      "text/plain": [
       "<StateSpec object: ''>"
      ]
     },
     "execution_count": 2,
     "metadata": {},
     "output_type": "execute_result"
    }
   ],
   "source": [
    "root = Tk()\n",
    "root.withdraw()"
   ]
  },
  {
   "cell_type": "code",
   "execution_count": 3,
   "id": "d49d644b",
   "metadata": {},
   "outputs": [],
   "source": [
    "filepath = filedialog.askopenfilename()\n",
    "file = open(filepath, 'r')"
   ]
  },
  {
   "cell_type": "code",
   "execution_count": 4,
   "id": "e953536a",
   "metadata": {},
   "outputs": [],
   "source": [
    "credentials = json.load(file)\n",
    "file.close()"
   ]
  },
  {
   "cell_type": "code",
   "execution_count": 5,
   "id": "7e6e8118",
   "metadata": {},
   "outputs": [
    {
     "name": "stdout",
     "output_type": "stream",
     "text": [
      "Requirement already satisfied: lyricsgenius in /opt/homebrew/anaconda3/lib/python3.9/site-packages (3.0.1)\r\n",
      "Requirement already satisfied: beautifulsoup4>=4.6.0 in /opt/homebrew/anaconda3/lib/python3.9/site-packages (from lyricsgenius) (4.11.1)\r\n",
      "Requirement already satisfied: requests>=2.20.0 in /opt/homebrew/anaconda3/lib/python3.9/site-packages (from lyricsgenius) (2.28.1)\r\n",
      "Requirement already satisfied: soupsieve>1.2 in /opt/homebrew/anaconda3/lib/python3.9/site-packages (from beautifulsoup4>=4.6.0->lyricsgenius) (2.3.1)\r\n",
      "Requirement already satisfied: charset-normalizer<3,>=2 in /opt/homebrew/anaconda3/lib/python3.9/site-packages (from requests>=2.20.0->lyricsgenius) (2.0.4)\r\n",
      "Requirement already satisfied: idna<4,>=2.5 in /opt/homebrew/anaconda3/lib/python3.9/site-packages (from requests>=2.20.0->lyricsgenius) (3.3)\r\n",
      "Requirement already satisfied: urllib3<1.27,>=1.21.1 in /opt/homebrew/anaconda3/lib/python3.9/site-packages (from requests>=2.20.0->lyricsgenius) (1.26.11)\r\n",
      "Requirement already satisfied: certifi>=2017.4.17 in /opt/homebrew/anaconda3/lib/python3.9/site-packages (from requests>=2.20.0->lyricsgenius) (2023.7.22)\r\n"
     ]
    }
   ],
   "source": [
    "!pip install lyricsgenius"
   ]
  },
  {
   "cell_type": "code",
   "execution_count": 7,
   "id": "762e5b2c",
   "metadata": {},
   "outputs": [],
   "source": [
    "from lyricsgenius import Genius\n",
    "import re"
   ]
  },
  {
   "cell_type": "code",
   "execution_count": 8,
   "id": "e2729f9b",
   "metadata": {},
   "outputs": [
    {
     "name": "stdout",
     "output_type": "stream",
     "text": [
      "Wrote 8698 lines to file from 215 songs\n"
     ]
    }
   ],
   "source": [
    "token = credentials['genius_token']\n",
    "max_songs = 215\n",
    "genius = Genius(token, timeout=120)\n",
    "genius.remove_section_headers = True\n",
    "genius.verbose = False\n",
    "artist = genius.search_artist('The Beatles', max_songs=max_songs)\n",
    "songs = artist.songs\n",
    "\n",
    "lyrics = \"\"\n",
    "for song in songs:\n",
    "    song_title_raw = '<' + song.title + '>'\n",
    "    song_title = ''.join(song_title_raw.split())\n",
    "    new_lyrics = '\\n' + song_title + '\\n' + song.lyrics\n",
    "    # new_lyrics = song.lyrics\n",
    "    lyrics = lyrics + new_lyrics\n",
    "\n",
    "# clean contributor section\n",
    "iterations = lyrics.split('\\n')\n",
    "clean_lyrics = \"\"\n",
    "for verse in iterations:\n",
    "    if 'Contributors' not in verse:\n",
    "        if verse != '':\n",
    "            clean_lyrics = clean_lyrics + verse + '\\n'\n",
    "\n",
    "# clean embedded characted\n",
    "pattern = r'\\d+Embed'\n",
    "super_clean = re.sub(pattern, '', clean_lyrics)\n",
    "\n",
    "# write to file\n",
    "f = open('lyrics/' + 'The Beatles' + '.txt', 'wb')\n",
    "f.write(super_clean.encode(\"utf8\"))\n",
    "f.close()\n",
    "      \n",
    "num_lines = sum(1 for line in open('lyrics/' + 'The Beatles' + '.txt', 'rb'))\n",
    "print('Wrote {} lines to file from {} songs'.format(num_lines, max_songs))"
   ]
  }
 ],
 "metadata": {
  "kernelspec": {
   "display_name": "Python 3 (ipykernel)",
   "language": "python",
   "name": "python3"
  },
  "language_info": {
   "codemirror_mode": {
    "name": "ipython",
    "version": 3
   },
   "file_extension": ".py",
   "mimetype": "text/x-python",
   "name": "python",
   "nbconvert_exporter": "python",
   "pygments_lexer": "ipython3",
   "version": "3.9.13"
  }
 },
 "nbformat": 4,
 "nbformat_minor": 5
}
